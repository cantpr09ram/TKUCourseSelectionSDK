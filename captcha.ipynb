{
 "cells": [
  {
   "cell_type": "code",
   "execution_count": 74,
   "metadata": {},
   "outputs": [],
   "source": [
    "import functools\n",
    "import requests\n",
    "import re\n",
    "from parsel import Selector\n",
    "from IPython.display import display\n",
    "from PIL import Image\n",
    "import shutil\n",
    "\n",
    "class TKUCourseSelector:\n",
    "    captcha_pattern = re.compile('^\\[(\"[0-9a-z]{64}\",?){6}\\]$')\n",
    "    captcha_mapping = {\n",
    "        '4ae81572f06e1b88fd5ced7a1a000945432e83e1551e6f721ee9c00b8cc33260': '0',\n",
    "        'a9f51566bd6705f7ea6ad54bb9deb449f795582d6529a0e22207b8981233ec58': '1',\n",
    "        'fcb5f40df9be6bae66c1d77a6c15968866a9e6cbd7314ca432b019d17392f6f4': '2',\n",
    "        'e632b7095b0bf32c260fa4c539e9fd7b852d0de454e9be26f24d0d6f91d069d3': '3',\n",
    "        '559aead08264d5795d3909718cdd05abd49572e84fe55590eef31a88a08fdffd': '4',\n",
    "        'a83dd0ccbffe39d071cc317ddf6e97f5c6b1c87af91919271f9fa140b0508c6c': '5',\n",
    "        '8de0b3c47f112c59745f717a626932264c422a7563954872e237b223af4ad643': '6',\n",
    "        'a25513c7e0f6eaa80a3337ee18081b9e2ed09e00af8531c8f7bb2542764027e7': '7',\n",
    "        '6b23c0d5f35d1b11f9b683f0b0a617355deb11277d91ae091d399c655b87940d': '8',\n",
    "        '3f39d5c348e5b79d06e842c114e6cc571583bbf44e4b0ebfda1a01ec05745d43': '9'\n",
    "    }\n",
    "    def __init__(self):\n",
    "        self.session = requests.Session()\n",
    "        # Global timeout\n",
    "        self.session.request = functools.partial(self.session.request, timeout=30)\n",
    "        self.session.headers['User-Agent'] = (\n",
    "            'Mozilla/5.0 (Macintosh; Intel Mac OS X 10.15; rv:73.0) Gecko/20100101 Firefox/73.0')\n",
    "        self.last_page = None\n",
    "\n",
    "    @staticmethod\n",
    "    def get_captcha_code(text: str):\n",
    "        print(text)\n",
    "        assert __class__.captcha_pattern.match(text) is not None, \"captcha not match!\"\n",
    "        return ''.join(map(__class__.captcha_mapping.get, eval(text)))\n",
    "\n",
    "    @staticmethod\n",
    "    def get_hidden_arg(html: str):\n",
    "        sel = Selector(html)\n",
    "        return {\n",
    "            prop: sel.css(f'#{prop}::attr(\"value\")').get()\n",
    "            for prop in ('__VIEWSTATE', '__VIEWSTATEGENERATOR', '__EVENTVALIDATION')\n",
    "        }\n",
    "    \n",
    "    def get_img(self):\n",
    "        res = self.session.get('https://www.ais.tku.edu.tw/EleCos/BaseData/confirm.ashx?', stream=True)\n",
    "        f = open('captcha.png', 'wb')\n",
    "        shutil.copyfileobj(res.raw, f)\n",
    "        f.close()\n",
    "        \n",
    "        img = Image.open('captcha.png')\n",
    "        display(img)\n",
    "        \n",
    "\n",
    "    def login(self) -> requests.Response:\n",
    "        login_page = self.session.get(\n",
    "            'https://www.ais.tku.edu.tw/EleCos/login.aspx?ReturnUrl=%2felecos%2f')\n",
    "        captcha_page = self.session.post(\n",
    "            'https://www.ais.tku.edu.tw/EleCos/Handler1.ashx')\n",
    "\n",
    "        post_data = self.get_hidden_arg(login_page.text)\n",
    "        \n",
    "        arr = eval(captcha_page.text)\n",
    "        print(len(arr[0]))\n",
    "        print(self.get_captcha_code(captcha_page.text))\n",
    "        \n",
    "        "
   ]
  },
  {
   "cell_type": "markdown",
   "metadata": {},
   "source": [
    "## code\n",
    "4ae81572f06e1b88fd5ced7a1a000945432e83e1551e6f721ee9c00b8cc33260 = 0\n",
    "a9f51566bd6705f7ea6ad54bb9deb449f795582d6529a0e22207b8981233ec58 = 1\n",
    "fcb5f40df9be6bae66c1d77a6c15968866a9e6cbd7314ca432b019d17392f6f4 = 2\n",
    "e632b7095b0bf32c260fa4c539e9fd7b852d0de454e9be26f24d0d6f91d069d3 = 3\n",
    "559aead08264d5795d3909718cdd05abd49572e84fe55590eef31a88a08fdffd = 4\n",
    "a83dd0ccbffe39d071cc317ddf6e97f5c6b1c87af91919271f9fa140b0508c6c = 5\n",
    "8de0b3c47f112c59745f717a626932264c422a7563954872e237b223af4ad643 = 6\n",
    "a25513c7e0f6eaa80a3337ee18081b9e2ed09e00af8531c8f7bb2542764027e7 = 7\n",
    "6b23c0d5f35d1b11f9b683f0b0a617355deb11277d91ae091d399c655b87940d = 8\n",
    "3f39d5c348e5b79d06e842c114e6cc571583bbf44e4b0ebfda1a01ec05745d43 = 9\n",
    "\n"
   ]
  },
  {
   "cell_type": "code",
   "execution_count": 75,
   "metadata": {},
   "outputs": [
    {
     "name": "stdout",
     "output_type": "stream",
     "text": [
      "64\n",
      "[\"a25513c7e0f6eaa80a3337ee18081b9e2ed09e00af8531c8f7bb2542764027e7\",\"a9f51566bd6705f7ea6ad54bb9deb449f795582d6529a0e22207b8981233ec58\",\"4ae81572f06e1b88fd5ced7a1a000945432e83e1551e6f721ee9c00b8cc33260\",\"a25513c7e0f6eaa80a3337ee18081b9e2ed09e00af8531c8f7bb2542764027e7\",\"fcb5f40df9be6bae66c1d77a6c15968866a9e6cbd7314ca432b019d17392f6f4\",\"a25513c7e0f6eaa80a3337ee18081b9e2ed09e00af8531c8f7bb2542764027e7\"]\n",
      "710727\n"
     ]
    },
    {
     "data": {
      "image/png": "[encoded data removed]",
      "text/plain": [
       "<PIL.PngImagePlugin.PngImageFile image mode=RGBA size=120x32>"
      ]
     },
     "metadata": {},
     "output_type": "display_data"
    }
   ],
   "source": [
    "\n",
    "course_selector = TKUCourseSelector()\n",
    "course_selector.login()\n",
    "course_selector.get_img()\n"
   ]
  }
 ],
 "metadata": {
  "kernelspec": {
   "display_name": "Python 3",
   "language": "python",
   "name": "python3"
  },
  "language_info": {
   "codemirror_mode": {
    "name": "ipython",
    "version": 3
   },
   "file_extension": ".py",
   "mimetype": "text/x-python",
   "name": "python",
   "nbconvert_exporter": "python",
   "pygments_lexer": "ipython3",
   "version": "3.11.7"
  }
 },
 "nbformat": 4,
 "nbformat_minor": 2
}
